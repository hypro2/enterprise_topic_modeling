{
 "cells": [
  {
   "cell_type": "code",
   "execution_count": 4,
   "id": "a1da44e0",
   "metadata": {
    "ExecuteTime": {
     "end_time": "2021-08-13T04:39:39.542239Z",
     "start_time": "2021-08-13T04:39:39.109327Z"
    }
   },
   "outputs": [],
   "source": [
    "import pandas as pd \n"
   ]
  },
  {
   "cell_type": "code",
   "execution_count": 19,
   "id": "8e6a33af",
   "metadata": {
    "ExecuteTime": {
     "end_time": "2021-08-13T04:46:47.412702Z",
     "start_time": "2021-08-13T04:46:47.367478Z"
    }
   },
   "outputs": [],
   "source": [
    "import csv\n",
    "table = []\n",
    "\n",
    "with open('polarity.csv','r',-1,'utf-8') as polarity:\n",
    "    next(polarity)\n",
    "    \n",
    "    for line in csv.reader(polarity):\n",
    "        key = str()\n",
    "        for word in line[0].split(\";\"):\n",
    "            key += word.split('/')[0]\n",
    "        if line[7] == \"POS\":\n",
    "            table.append([key,1])\n",
    "        elif line[7] == \"NEUT\":\n",
    "            table.append([key,0])            \n",
    "        elif line[7] == \"NEG\":\n",
    "            table.append([key,-1])    \n"
   ]
  },
  {
   "cell_type": "code",
   "execution_count": 21,
   "id": "1b4ac428",
   "metadata": {
    "ExecuteTime": {
     "end_time": "2021-08-13T04:46:48.633097Z",
     "start_time": "2021-08-13T04:46:48.610159Z"
    }
   },
   "outputs": [
    {
     "data": {
      "text/html": [
       "<div>\n",
       "<style scoped>\n",
       "    .dataframe tbody tr th:only-of-type {\n",
       "        vertical-align: middle;\n",
       "    }\n",
       "\n",
       "    .dataframe tbody tr th {\n",
       "        vertical-align: top;\n",
       "    }\n",
       "\n",
       "    .dataframe thead th {\n",
       "        text-align: right;\n",
       "    }\n",
       "</style>\n",
       "<table border=\"1\" class=\"dataframe\">\n",
       "  <thead>\n",
       "    <tr style=\"text-align: right;\">\n",
       "      <th></th>\n",
       "      <th>key</th>\n",
       "      <th>value</th>\n",
       "    </tr>\n",
       "  </thead>\n",
       "  <tbody>\n",
       "    <tr>\n",
       "      <th>0</th>\n",
       "      <td>가*</td>\n",
       "      <td>1</td>\n",
       "    </tr>\n",
       "    <tr>\n",
       "      <th>1</th>\n",
       "      <td>가*있</td>\n",
       "      <td>1</td>\n",
       "    </tr>\n",
       "    <tr>\n",
       "      <th>2</th>\n",
       "      <td>가*있었</td>\n",
       "      <td>1</td>\n",
       "    </tr>\n",
       "    <tr>\n",
       "      <th>3</th>\n",
       "      <td>가*</td>\n",
       "      <td>1</td>\n",
       "    </tr>\n",
       "    <tr>\n",
       "      <th>4</th>\n",
       "      <td>가*ㄴ다*</td>\n",
       "      <td>1</td>\n",
       "    </tr>\n",
       "    <tr>\n",
       "      <th>...</th>\n",
       "      <td>...</td>\n",
       "      <td>...</td>\n",
       "    </tr>\n",
       "    <tr>\n",
       "      <th>15361</th>\n",
       "      <td>힘들ㄹ것</td>\n",
       "      <td>-1</td>\n",
       "    </tr>\n",
       "    <tr>\n",
       "      <th>15362</th>\n",
       "      <td>힘들ㄹ때</td>\n",
       "      <td>-1</td>\n",
       "    </tr>\n",
       "    <tr>\n",
       "      <th>15363</th>\n",
       "      <td>힘차</td>\n",
       "      <td>-1</td>\n",
       "    </tr>\n",
       "    <tr>\n",
       "      <th>15364</th>\n",
       "      <td>힘차ㄴ</td>\n",
       "      <td>-1</td>\n",
       "    </tr>\n",
       "    <tr>\n",
       "      <th>15365</th>\n",
       "      <td>힘차ㄴ붓</td>\n",
       "      <td>-1</td>\n",
       "    </tr>\n",
       "  </tbody>\n",
       "</table>\n",
       "<p>15366 rows × 2 columns</p>\n",
       "</div>"
      ],
      "text/plain": [
       "         key  value\n",
       "0         가*      1\n",
       "1        가*있      1\n",
       "2       가*있었      1\n",
       "3         가*      1\n",
       "4      가*ㄴ다*      1\n",
       "...      ...    ...\n",
       "15361   힘들ㄹ것     -1\n",
       "15362   힘들ㄹ때     -1\n",
       "15363     힘차     -1\n",
       "15364    힘차ㄴ     -1\n",
       "15365   힘차ㄴ붓     -1\n",
       "\n",
       "[15366 rows x 2 columns]"
      ]
     },
     "execution_count": 21,
     "metadata": {},
     "output_type": "execute_result"
    }
   ],
   "source": [
    "table"
   ]
  },
  {
   "cell_type": "code",
   "execution_count": 20,
   "id": "8632834e",
   "metadata": {
    "ExecuteTime": {
     "end_time": "2021-08-13T04:46:47.886188Z",
     "start_time": "2021-08-13T04:46:47.841753Z"
    }
   },
   "outputs": [],
   "source": [
    "table = pd.DataFrame(table, columns=[\"key\",\"value\"])\n",
    "table.to_csv(\"감성사전.csv\")"
   ]
  },
  {
   "cell_type": "code",
   "execution_count": null,
   "id": "ce88cfbf",
   "metadata": {},
   "outputs": [],
   "source": [
    "    \n",
    "posdict = pd.read_csv(\"감성사전.csv\")\n",
    "posdict.drop(columns=\"Unnamed: 0\", inplace=True)\n",
    "posdict.set_index('key', inplace=True)\n",
    "\n"
   ]
  },
  {
   "cell_type": "code",
   "execution_count": null,
   "id": "9de6fee3",
   "metadata": {},
   "outputs": [],
   "source": [
    "word_dict = {}\n",
    "for i in range(best_num_topics):\n",
    "    words = lda.show_topic(i, topn = 100)\n",
    "    word_dict['Topic # ' + '{:02d}'.format(i+1)] = [i[0] for i in words]\n",
    "    try:\n",
    "        word_dict['Topic # ' + '{:02d} (비율)'.format(i+1)] = [i[1]*posdict.loc[i[0]][0] for i in words]\n",
    "    except:\n",
    "        word_dict['Topic # ' + '{:02d} (비율)'.format(i+1)] = [i[1] for i in words]\n",
    "top_topic = pd.DataFrame(word_dict).reset_index()\n",
    "\n",
    "if not os.path.exists(\"06. vis_topicmodel2\\\\\"):\n",
    "    os.mkdir(\"06. vis_topicmodel2\\\\\")\n",
    "top_topic.to_csv(\"06. vis_topicmodel2\\\\\"+\"{}(lda)_토픽_상위100개.csv\".format(keyword), encoding= \"utf-8-sig\")"
   ]
  }
 ],
 "metadata": {
  "kernelspec": {
   "display_name": "Python 3",
   "language": "python",
   "name": "python3"
  },
  "language_info": {
   "codemirror_mode": {
    "name": "ipython",
    "version": 3
   },
   "file_extension": ".py",
   "mimetype": "text/x-python",
   "name": "python",
   "nbconvert_exporter": "python",
   "pygments_lexer": "ipython3",
   "version": "3.8.8"
  },
  "toc": {
   "base_numbering": 1,
   "nav_menu": {},
   "number_sections": true,
   "sideBar": true,
   "skip_h1_title": false,
   "title_cell": "Table of Contents",
   "title_sidebar": "Contents",
   "toc_cell": false,
   "toc_position": {},
   "toc_section_display": true,
   "toc_window_display": false
  },
  "varInspector": {
   "cols": {
    "lenName": 16,
    "lenType": 16,
    "lenVar": 40
   },
   "kernels_config": {
    "python": {
     "delete_cmd_postfix": "",
     "delete_cmd_prefix": "del ",
     "library": "var_list.py",
     "varRefreshCmd": "print(var_dic_list())"
    },
    "r": {
     "delete_cmd_postfix": ") ",
     "delete_cmd_prefix": "rm(",
     "library": "var_list.r",
     "varRefreshCmd": "cat(var_dic_list()) "
    }
   },
   "types_to_exclude": [
    "module",
    "function",
    "builtin_function_or_method",
    "instance",
    "_Feature"
   ],
   "window_display": false
  }
 },
 "nbformat": 4,
 "nbformat_minor": 5
}
