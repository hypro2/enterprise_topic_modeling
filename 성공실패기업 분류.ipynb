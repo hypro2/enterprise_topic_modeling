{
 "cells": [
  {
   "cell_type": "code",
   "execution_count": 2,
   "id": "408901c2",
   "metadata": {
    "ExecuteTime": {
     "end_time": "2021-08-15T05:53:42.507264Z",
     "start_time": "2021-08-15T05:53:40.267067Z"
    }
   },
   "outputs": [],
   "source": [
    "import warnings\n",
    "warnings.filterwarnings(\"ignore\", category=UserWarning)\n",
    "\n",
    "import os\n",
    "import glob\n",
    "import csv\n",
    "from konlpy.tag import Okt\n",
    "import re\n",
    "import numpy\n",
    "from gensim.models.coherencemodel import CoherenceModel\n",
    "import matplotlib.pyplot as plt\n",
    "import matplotlib as mpl\n",
    "from IPython.display import set_matplotlib_formats\n",
    "import pandas as pd \n",
    "from sklearn.decomposition import PCA\n",
    "from wordcloud import WordCloud\n",
    "\n",
    "mpl.rc('font', family = 'Malgun Gothic')\n",
    "set_matplotlib_formats('retina')"
   ]
  },
  {
   "cell_type": "code",
   "execution_count": 3,
   "id": "14d2533f",
   "metadata": {
    "ExecuteTime": {
     "end_time": "2021-08-13T12:06:17.910132Z",
     "start_time": "2021-08-13T12:06:17.221018Z"
    }
   },
   "outputs": [],
   "source": [
    "df = pd.read_csv('jobplanet_review.csv')"
   ]
  },
  {
   "cell_type": "code",
   "execution_count": 4,
   "id": "3d09255d",
   "metadata": {
    "ExecuteTime": {
     "end_time": "2021-08-13T12:06:18.018840Z",
     "start_time": "2021-08-13T12:06:17.988922Z"
    }
   },
   "outputs": [
    {
     "data": {
      "text/html": [
       "<div>\n",
       "<style scoped>\n",
       "    .dataframe tbody tr th:only-of-type {\n",
       "        vertical-align: middle;\n",
       "    }\n",
       "\n",
       "    .dataframe tbody tr th {\n",
       "        vertical-align: top;\n",
       "    }\n",
       "\n",
       "    .dataframe thead th {\n",
       "        text-align: right;\n",
       "    }\n",
       "</style>\n",
       "<table border=\"1\" class=\"dataframe\">\n",
       "  <thead>\n",
       "    <tr style=\"text-align: right;\">\n",
       "      <th></th>\n",
       "      <th>Unnamed: 0</th>\n",
       "      <th>기업명</th>\n",
       "      <th>직종</th>\n",
       "      <th>현직원 여부</th>\n",
       "      <th>리뷰 제목</th>\n",
       "      <th>기업 장점</th>\n",
       "      <th>기업 단점</th>\n",
       "      <th>경영진에 바라는 점</th>\n",
       "      <th>기업 성장 가능성</th>\n",
       "    </tr>\n",
       "  </thead>\n",
       "  <tbody>\n",
       "    <tr>\n",
       "      <th>0</th>\n",
       "      <td>0</td>\n",
       "      <td>(주)미래아이엔씨</td>\n",
       "      <td>마케팅/시장조사</td>\n",
       "      <td>현직원</td>\n",
       "      <td>\"기업이 나아가는 방향성이 분명하기 떄문에 비전이 좋습니다.\"</td>\n",
       "      <td>자체 기술을 보유하고 있기 떄문에 타 업체 대비 경쟁에서 우위를 점할 수 있어서 편...</td>\n",
       "      <td>아무래 서비스적으로 지원 부분이 많다보니깐 실제로 광고주가 원하는 부분이 많습니다....</td>\n",
       "      <td>지속적인 개발에 힘써 주시는 모습에 감사드리고 앞으로도 좋은 발전 부탁 드립니다.</td>\n",
       "      <td>성장</td>\n",
       "    </tr>\n",
       "    <tr>\n",
       "      <th>1</th>\n",
       "      <td>1</td>\n",
       "      <td>(주)미래아이엔씨</td>\n",
       "      <td>디자인</td>\n",
       "      <td>전직원</td>\n",
       "      <td>\"다양한 디자인 포트폴리오를 쌓을 수 있어서 정말 만족\\n사람들도 친절하고 좋아요....</td>\n",
       "      <td>자본이 안정되고 오래된 회사, 회사가 망할까봐 두려운것은 절대없어서 좋음\\n가끔 조...</td>\n",
       "      <td>포지션에 따라 좋지않을 수도 있는 회사. 청소를 너무 열심히 함\\n분위기가 조용해서...</td>\n",
       "      <td>직원들 불만을 잘 수렴해줬으면 함. 업무 포지션 변경이 너무 잦지 않았으면 함.</td>\n",
       "      <td>성장</td>\n",
       "    </tr>\n",
       "    <tr>\n",
       "      <th>2</th>\n",
       "      <td>2</td>\n",
       "      <td>(주)미래아이엔씨</td>\n",
       "      <td>영업/제휴</td>\n",
       "      <td>전직원</td>\n",
       "      <td>\"직장 내 괴롭힘과 분위기 조성으로 퇴사 유발하는 그들은, 과연 그들의 자식이 직장...</td>\n",
       "      <td>대부분이 젊은 연령 입니다.\\n영업직 한정, 본인이 하는 만큼 벌어갈 수 있습니다....</td>\n",
       "      <td>긴말 않겠습니다. 되도 않는 이유로 사람 꼽주고 정신적 스트레스 줘서 자발적으로 퇴...</td>\n",
       "      <td>내가 지금 이 사원에게 하는 말, 행동이 부당한지 아닌지 애매하다? 내 자식이 회사...</td>\n",
       "      <td>NaN</td>\n",
       "    </tr>\n",
       "    <tr>\n",
       "      <th>3</th>\n",
       "      <td>3</td>\n",
       "      <td>(주)미래아이엔씨</td>\n",
       "      <td>마케팅/시장조사</td>\n",
       "      <td>전직원</td>\n",
       "      <td>\"온라인마케팅을 가장한 TM업무를 동반한 철저한 영업회사.\\n더 빨리 퇴사를 못한게...</td>\n",
       "      <td>인센제로 영업력이 뛰어나면 그만큼 월급을 받을 수 있음\\n\\n당일 퇴사처리\\n\\n영...</td>\n",
       "      <td>ㅡ대체휴일 연차소진, 당일연차 사용불가\\n하루연차 쓰려해도 3일전에 기안 올려야함\\...</td>\n",
       "      <td>월급때문에 퇴사가 늦어졌으나 돌이켜보니 그 버틴 시간들이 너무 아까웠습니다.\\n임원...</td>\n",
       "      <td>비슷</td>\n",
       "    </tr>\n",
       "    <tr>\n",
       "      <th>4</th>\n",
       "      <td>4</td>\n",
       "      <td>(주)미래아이엔씨</td>\n",
       "      <td>영업/제휴</td>\n",
       "      <td>전직원</td>\n",
       "      <td>\"텔레마케팅 처음경험하기엔 나쁘지않은 회사 오래는 못할거 같음 ..\"</td>\n",
       "      <td>건물이 좋음 , 오랜 업력에 입사와 퇴사가 잦음\\n텔레마케팅을 처음 겪어보기엔 나쁘...</td>\n",
       "      <td>복지제도가 다양하지만 쓸 시간은 없음\\n부담감과 압박이 있음 야근이 잦음</td>\n",
       "      <td>합리적인 복지 및 재투자 지원을 해줬음 좋겠다</td>\n",
       "      <td>비슷</td>\n",
       "    </tr>\n",
       "  </tbody>\n",
       "</table>\n",
       "</div>"
      ],
      "text/plain": [
       "   Unnamed: 0        기업명        직종 현직원 여부  \\\n",
       "0           0  (주)미래아이엔씨  마케팅/시장조사    현직원   \n",
       "1           1  (주)미래아이엔씨       디자인    전직원   \n",
       "2           2  (주)미래아이엔씨     영업/제휴    전직원   \n",
       "3           3  (주)미래아이엔씨  마케팅/시장조사    전직원   \n",
       "4           4  (주)미래아이엔씨     영업/제휴    전직원   \n",
       "\n",
       "                                               리뷰 제목  \\\n",
       "0                 \"기업이 나아가는 방향성이 분명하기 떄문에 비전이 좋습니다.\"   \n",
       "1  \"다양한 디자인 포트폴리오를 쌓을 수 있어서 정말 만족\\n사람들도 친절하고 좋아요....   \n",
       "2  \"직장 내 괴롭힘과 분위기 조성으로 퇴사 유발하는 그들은, 과연 그들의 자식이 직장...   \n",
       "3  \"온라인마케팅을 가장한 TM업무를 동반한 철저한 영업회사.\\n더 빨리 퇴사를 못한게...   \n",
       "4             \"텔레마케팅 처음경험하기엔 나쁘지않은 회사 오래는 못할거 같음 ..\"   \n",
       "\n",
       "                                               기업 장점  \\\n",
       "0  자체 기술을 보유하고 있기 떄문에 타 업체 대비 경쟁에서 우위를 점할 수 있어서 편...   \n",
       "1  자본이 안정되고 오래된 회사, 회사가 망할까봐 두려운것은 절대없어서 좋음\\n가끔 조...   \n",
       "2  대부분이 젊은 연령 입니다.\\n영업직 한정, 본인이 하는 만큼 벌어갈 수 있습니다....   \n",
       "3  인센제로 영업력이 뛰어나면 그만큼 월급을 받을 수 있음\\n\\n당일 퇴사처리\\n\\n영...   \n",
       "4  건물이 좋음 , 오랜 업력에 입사와 퇴사가 잦음\\n텔레마케팅을 처음 겪어보기엔 나쁘...   \n",
       "\n",
       "                                               기업 단점  \\\n",
       "0  아무래 서비스적으로 지원 부분이 많다보니깐 실제로 광고주가 원하는 부분이 많습니다....   \n",
       "1  포지션에 따라 좋지않을 수도 있는 회사. 청소를 너무 열심히 함\\n분위기가 조용해서...   \n",
       "2  긴말 않겠습니다. 되도 않는 이유로 사람 꼽주고 정신적 스트레스 줘서 자발적으로 퇴...   \n",
       "3  ㅡ대체휴일 연차소진, 당일연차 사용불가\\n하루연차 쓰려해도 3일전에 기안 올려야함\\...   \n",
       "4           복지제도가 다양하지만 쓸 시간은 없음\\n부담감과 압박이 있음 야근이 잦음   \n",
       "\n",
       "                                          경영진에 바라는 점 기업 성장 가능성  \n",
       "0      지속적인 개발에 힘써 주시는 모습에 감사드리고 앞으로도 좋은 발전 부탁 드립니다.        성장  \n",
       "1       직원들 불만을 잘 수렴해줬으면 함. 업무 포지션 변경이 너무 잦지 않았으면 함.        성장  \n",
       "2  내가 지금 이 사원에게 하는 말, 행동이 부당한지 아닌지 애매하다? 내 자식이 회사...       NaN  \n",
       "3  월급때문에 퇴사가 늦어졌으나 돌이켜보니 그 버틴 시간들이 너무 아까웠습니다.\\n임원...        비슷  \n",
       "4                          합리적인 복지 및 재투자 지원을 해줬음 좋겠다        비슷  "
      ]
     },
     "execution_count": 4,
     "metadata": {},
     "output_type": "execute_result"
    }
   ],
   "source": [
    "df.head()"
   ]
  },
  {
   "cell_type": "code",
   "execution_count": 5,
   "id": "10829980",
   "metadata": {
    "ExecuteTime": {
     "end_time": "2021-08-13T12:06:18.082370Z",
     "start_time": "2021-08-13T12:06:18.051752Z"
    }
   },
   "outputs": [
    {
     "data": {
      "text/plain": [
       "Unnamed: 0       0\n",
       "기업명              0\n",
       "직종               0\n",
       "현직원 여부           0\n",
       "리뷰 제목            0\n",
       "기업 장점            0\n",
       "기업 단점            3\n",
       "경영진에 바라는 점      43\n",
       "기업 성장 가능성     9015\n",
       "dtype: int64"
      ]
     },
     "execution_count": 5,
     "metadata": {},
     "output_type": "execute_result"
    }
   ],
   "source": [
    "df.isna().sum()"
   ]
  },
  {
   "cell_type": "code",
   "execution_count": 6,
   "id": "ee53fb1f",
   "metadata": {
    "ExecuteTime": {
     "end_time": "2021-08-13T12:06:18.162372Z",
     "start_time": "2021-08-13T12:06:18.115231Z"
    }
   },
   "outputs": [],
   "source": [
    "df.drop(columns=[\"Unnamed: 0\"], inplace=True)\n",
    "df.dropna(inplace=True)"
   ]
  },
  {
   "cell_type": "code",
   "execution_count": 7,
   "id": "51245c4f",
   "metadata": {
    "ExecuteTime": {
     "end_time": "2021-08-13T12:06:18.664764Z",
     "start_time": "2021-08-13T12:06:18.646817Z"
    }
   },
   "outputs": [
    {
     "data": {
      "text/html": [
       "<div>\n",
       "<style scoped>\n",
       "    .dataframe tbody tr th:only-of-type {\n",
       "        vertical-align: middle;\n",
       "    }\n",
       "\n",
       "    .dataframe tbody tr th {\n",
       "        vertical-align: top;\n",
       "    }\n",
       "\n",
       "    .dataframe thead th {\n",
       "        text-align: right;\n",
       "    }\n",
       "</style>\n",
       "<table border=\"1\" class=\"dataframe\">\n",
       "  <thead>\n",
       "    <tr style=\"text-align: right;\">\n",
       "      <th></th>\n",
       "      <th>기업명</th>\n",
       "      <th>직종</th>\n",
       "      <th>현직원 여부</th>\n",
       "      <th>리뷰 제목</th>\n",
       "      <th>기업 장점</th>\n",
       "      <th>기업 단점</th>\n",
       "      <th>경영진에 바라는 점</th>\n",
       "      <th>기업 성장 가능성</th>\n",
       "    </tr>\n",
       "  </thead>\n",
       "  <tbody>\n",
       "    <tr>\n",
       "      <th>0</th>\n",
       "      <td>(주)미래아이엔씨</td>\n",
       "      <td>마케팅/시장조사</td>\n",
       "      <td>현직원</td>\n",
       "      <td>\"기업이 나아가는 방향성이 분명하기 떄문에 비전이 좋습니다.\"</td>\n",
       "      <td>자체 기술을 보유하고 있기 떄문에 타 업체 대비 경쟁에서 우위를 점할 수 있어서 편...</td>\n",
       "      <td>아무래 서비스적으로 지원 부분이 많다보니깐 실제로 광고주가 원하는 부분이 많습니다....</td>\n",
       "      <td>지속적인 개발에 힘써 주시는 모습에 감사드리고 앞으로도 좋은 발전 부탁 드립니다.</td>\n",
       "      <td>성장</td>\n",
       "    </tr>\n",
       "    <tr>\n",
       "      <th>1</th>\n",
       "      <td>(주)미래아이엔씨</td>\n",
       "      <td>디자인</td>\n",
       "      <td>전직원</td>\n",
       "      <td>\"다양한 디자인 포트폴리오를 쌓을 수 있어서 정말 만족\\n사람들도 친절하고 좋아요....</td>\n",
       "      <td>자본이 안정되고 오래된 회사, 회사가 망할까봐 두려운것은 절대없어서 좋음\\n가끔 조...</td>\n",
       "      <td>포지션에 따라 좋지않을 수도 있는 회사. 청소를 너무 열심히 함\\n분위기가 조용해서...</td>\n",
       "      <td>직원들 불만을 잘 수렴해줬으면 함. 업무 포지션 변경이 너무 잦지 않았으면 함.</td>\n",
       "      <td>성장</td>\n",
       "    </tr>\n",
       "    <tr>\n",
       "      <th>3</th>\n",
       "      <td>(주)미래아이엔씨</td>\n",
       "      <td>마케팅/시장조사</td>\n",
       "      <td>전직원</td>\n",
       "      <td>\"온라인마케팅을 가장한 TM업무를 동반한 철저한 영업회사.\\n더 빨리 퇴사를 못한게...</td>\n",
       "      <td>인센제로 영업력이 뛰어나면 그만큼 월급을 받을 수 있음\\n\\n당일 퇴사처리\\n\\n영...</td>\n",
       "      <td>ㅡ대체휴일 연차소진, 당일연차 사용불가\\n하루연차 쓰려해도 3일전에 기안 올려야함\\...</td>\n",
       "      <td>월급때문에 퇴사가 늦어졌으나 돌이켜보니 그 버틴 시간들이 너무 아까웠습니다.\\n임원...</td>\n",
       "      <td>비슷</td>\n",
       "    </tr>\n",
       "    <tr>\n",
       "      <th>4</th>\n",
       "      <td>(주)미래아이엔씨</td>\n",
       "      <td>영업/제휴</td>\n",
       "      <td>전직원</td>\n",
       "      <td>\"텔레마케팅 처음경험하기엔 나쁘지않은 회사 오래는 못할거 같음 ..\"</td>\n",
       "      <td>건물이 좋음 , 오랜 업력에 입사와 퇴사가 잦음\\n텔레마케팅을 처음 겪어보기엔 나쁘...</td>\n",
       "      <td>복지제도가 다양하지만 쓸 시간은 없음\\n부담감과 압박이 있음 야근이 잦음</td>\n",
       "      <td>합리적인 복지 및 재투자 지원을 해줬음 좋겠다</td>\n",
       "      <td>비슷</td>\n",
       "    </tr>\n",
       "    <tr>\n",
       "      <th>5</th>\n",
       "      <td>(주)미래아이엔씨</td>\n",
       "      <td>마케팅/시장조사</td>\n",
       "      <td>전직원</td>\n",
       "      <td>\"공고 봤을때 너무나도 기대하고 들어갔어요 유튜브 미래아이앤씨 브이로그도 찾아보고 ...</td>\n",
       "      <td>광고 대행사에 장점은 항상 자유로운 연차인거같아요 이건 좋아요</td>\n",
       "      <td>퇴근 시간이 정해져있지만 해야할일이 너무 많기때문에 강제 야근..</td>\n",
       "      <td>이건 어떤 대행사나 똑같은거라 뭐라 할 말이 없네요 ㅎㅎ</td>\n",
       "      <td>비슷</td>\n",
       "    </tr>\n",
       "  </tbody>\n",
       "</table>\n",
       "</div>"
      ],
      "text/plain": [
       "         기업명        직종 현직원 여부  \\\n",
       "0  (주)미래아이엔씨  마케팅/시장조사    현직원   \n",
       "1  (주)미래아이엔씨       디자인    전직원   \n",
       "3  (주)미래아이엔씨  마케팅/시장조사    전직원   \n",
       "4  (주)미래아이엔씨     영업/제휴    전직원   \n",
       "5  (주)미래아이엔씨  마케팅/시장조사    전직원   \n",
       "\n",
       "                                               리뷰 제목  \\\n",
       "0                 \"기업이 나아가는 방향성이 분명하기 떄문에 비전이 좋습니다.\"   \n",
       "1  \"다양한 디자인 포트폴리오를 쌓을 수 있어서 정말 만족\\n사람들도 친절하고 좋아요....   \n",
       "3  \"온라인마케팅을 가장한 TM업무를 동반한 철저한 영업회사.\\n더 빨리 퇴사를 못한게...   \n",
       "4             \"텔레마케팅 처음경험하기엔 나쁘지않은 회사 오래는 못할거 같음 ..\"   \n",
       "5  \"공고 봤을때 너무나도 기대하고 들어갔어요 유튜브 미래아이앤씨 브이로그도 찾아보고 ...   \n",
       "\n",
       "                                               기업 장점  \\\n",
       "0  자체 기술을 보유하고 있기 떄문에 타 업체 대비 경쟁에서 우위를 점할 수 있어서 편...   \n",
       "1  자본이 안정되고 오래된 회사, 회사가 망할까봐 두려운것은 절대없어서 좋음\\n가끔 조...   \n",
       "3  인센제로 영업력이 뛰어나면 그만큼 월급을 받을 수 있음\\n\\n당일 퇴사처리\\n\\n영...   \n",
       "4  건물이 좋음 , 오랜 업력에 입사와 퇴사가 잦음\\n텔레마케팅을 처음 겪어보기엔 나쁘...   \n",
       "5                 광고 대행사에 장점은 항상 자유로운 연차인거같아요 이건 좋아요   \n",
       "\n",
       "                                               기업 단점  \\\n",
       "0  아무래 서비스적으로 지원 부분이 많다보니깐 실제로 광고주가 원하는 부분이 많습니다....   \n",
       "1  포지션에 따라 좋지않을 수도 있는 회사. 청소를 너무 열심히 함\\n분위기가 조용해서...   \n",
       "3  ㅡ대체휴일 연차소진, 당일연차 사용불가\\n하루연차 쓰려해도 3일전에 기안 올려야함\\...   \n",
       "4           복지제도가 다양하지만 쓸 시간은 없음\\n부담감과 압박이 있음 야근이 잦음   \n",
       "5               퇴근 시간이 정해져있지만 해야할일이 너무 많기때문에 강제 야근..   \n",
       "\n",
       "                                          경영진에 바라는 점 기업 성장 가능성  \n",
       "0      지속적인 개발에 힘써 주시는 모습에 감사드리고 앞으로도 좋은 발전 부탁 드립니다.        성장  \n",
       "1       직원들 불만을 잘 수렴해줬으면 함. 업무 포지션 변경이 너무 잦지 않았으면 함.        성장  \n",
       "3  월급때문에 퇴사가 늦어졌으나 돌이켜보니 그 버틴 시간들이 너무 아까웠습니다.\\n임원...        비슷  \n",
       "4                          합리적인 복지 및 재투자 지원을 해줬음 좋겠다        비슷  \n",
       "5                    이건 어떤 대행사나 똑같은거라 뭐라 할 말이 없네요 ㅎㅎ        비슷  "
      ]
     },
     "execution_count": 7,
     "metadata": {},
     "output_type": "execute_result"
    }
   ],
   "source": [
    "df.head()"
   ]
  },
  {
   "cell_type": "code",
   "execution_count": 7,
   "id": "e635db61",
   "metadata": {
    "ExecuteTime": {
     "end_time": "2021-08-13T11:25:33.086204Z",
     "start_time": "2021-08-13T11:25:33.071245Z"
    }
   },
   "outputs": [
    {
     "data": {
      "text/plain": [
       "비슷    20214\n",
       "성장     8921\n",
       "Name: 기업 성장 가능성, dtype: int64"
      ]
     },
     "execution_count": 7,
     "metadata": {},
     "output_type": "execute_result"
    }
   ],
   "source": [
    "df['기업 성장 가능성'].value_counts()"
   ]
  },
  {
   "cell_type": "code",
   "execution_count": 11,
   "id": "9c9237a5",
   "metadata": {
    "ExecuteTime": {
     "end_time": "2021-08-13T11:25:47.698680Z",
     "start_time": "2021-08-13T11:25:47.678734Z"
    }
   },
   "outputs": [],
   "source": [
    "sdf = df.loc[ df['기업 성장 가능성']== '성장' ]\n",
    "ldf = sdf = df.loc[ df['기업 성장 가능성']== '비슷' ]"
   ]
  },
  {
   "cell_type": "code",
   "execution_count": 13,
   "id": "a0977c7c",
   "metadata": {
    "ExecuteTime": {
     "end_time": "2021-08-13T11:25:56.063346Z",
     "start_time": "2021-08-13T11:25:56.044397Z"
    }
   },
   "outputs": [
    {
     "data": {
      "text/html": [
       "<div>\n",
       "<style scoped>\n",
       "    .dataframe tbody tr th:only-of-type {\n",
       "        vertical-align: middle;\n",
       "    }\n",
       "\n",
       "    .dataframe tbody tr th {\n",
       "        vertical-align: top;\n",
       "    }\n",
       "\n",
       "    .dataframe thead th {\n",
       "        text-align: right;\n",
       "    }\n",
       "</style>\n",
       "<table border=\"1\" class=\"dataframe\">\n",
       "  <thead>\n",
       "    <tr style=\"text-align: right;\">\n",
       "      <th></th>\n",
       "      <th>기업명</th>\n",
       "      <th>직종</th>\n",
       "      <th>현직원 여부</th>\n",
       "      <th>리뷰 제목</th>\n",
       "      <th>기업 장점</th>\n",
       "      <th>기업 단점</th>\n",
       "      <th>경영진에 바라는 점</th>\n",
       "      <th>기업 성장 가능성</th>\n",
       "    </tr>\n",
       "  </thead>\n",
       "  <tbody>\n",
       "    <tr>\n",
       "      <th>3</th>\n",
       "      <td>(주)미래아이엔씨</td>\n",
       "      <td>마케팅/시장조사</td>\n",
       "      <td>전직원</td>\n",
       "      <td>\"온라인마케팅을 가장한 TM업무를 동반한 철저한 영업회사.\\n더 빨리 퇴사를 못한게...</td>\n",
       "      <td>인센제로 영업력이 뛰어나면 그만큼 월급을 받을 수 있음\\n\\n당일 퇴사처리\\n\\n영...</td>\n",
       "      <td>ㅡ대체휴일 연차소진, 당일연차 사용불가\\n하루연차 쓰려해도 3일전에 기안 올려야함\\...</td>\n",
       "      <td>월급때문에 퇴사가 늦어졌으나 돌이켜보니 그 버틴 시간들이 너무 아까웠습니다.\\n임원...</td>\n",
       "      <td>비슷</td>\n",
       "    </tr>\n",
       "    <tr>\n",
       "      <th>4</th>\n",
       "      <td>(주)미래아이엔씨</td>\n",
       "      <td>영업/제휴</td>\n",
       "      <td>전직원</td>\n",
       "      <td>\"텔레마케팅 처음경험하기엔 나쁘지않은 회사 오래는 못할거 같음 ..\"</td>\n",
       "      <td>건물이 좋음 , 오랜 업력에 입사와 퇴사가 잦음\\n텔레마케팅을 처음 겪어보기엔 나쁘...</td>\n",
       "      <td>복지제도가 다양하지만 쓸 시간은 없음\\n부담감과 압박이 있음 야근이 잦음</td>\n",
       "      <td>합리적인 복지 및 재투자 지원을 해줬음 좋겠다</td>\n",
       "      <td>비슷</td>\n",
       "    </tr>\n",
       "    <tr>\n",
       "      <th>5</th>\n",
       "      <td>(주)미래아이엔씨</td>\n",
       "      <td>마케팅/시장조사</td>\n",
       "      <td>전직원</td>\n",
       "      <td>\"공고 봤을때 너무나도 기대하고 들어갔어요 유튜브 미래아이앤씨 브이로그도 찾아보고 ...</td>\n",
       "      <td>광고 대행사에 장점은 항상 자유로운 연차인거같아요 이건 좋아요</td>\n",
       "      <td>퇴근 시간이 정해져있지만 해야할일이 너무 많기때문에 강제 야근..</td>\n",
       "      <td>이건 어떤 대행사나 똑같은거라 뭐라 할 말이 없네요 ㅎㅎ</td>\n",
       "      <td>비슷</td>\n",
       "    </tr>\n",
       "    <tr>\n",
       "      <th>6</th>\n",
       "      <td>(주)미래아이엔씨</td>\n",
       "      <td>마케팅/시장조사</td>\n",
       "      <td>전직원</td>\n",
       "      <td>\"처음 입사하면 TM업무를 볼 가능성이 굉장히 높음 면접볼때도 AM업무 관심없냐고 ...</td>\n",
       "      <td>전체적으로 회사사람들이 젊은편에 속한다. 컴퓨터가 pc방급 컴퓨터임</td>\n",
       "      <td>그냥 TM업무를 보는 사람이 대부분이고 역량을 키우거나 스팩을 쌓거나 하기는 좀 무...</td>\n",
       "      <td>사람들이 왜 1년도 못채우고 그만두는지 젊은 사람이 뭐 헝그리정신이 부족하다 이런 ...</td>\n",
       "      <td>비슷</td>\n",
       "    </tr>\n",
       "    <tr>\n",
       "      <th>7</th>\n",
       "      <td>(주)미래아이엔씨</td>\n",
       "      <td>영업/제휴</td>\n",
       "      <td>전직원</td>\n",
       "      <td>\"그냥 광고 영업회사이고 광고에 대해서 배울 수 있다는 생각으로 입사할 회사는 아님\"</td>\n",
       "      <td>음 장점 ……. 음 뭐가있을까 그냥 앉아서 일 하는거 ? 모든걸 다 혼자해야함 (남...</td>\n",
       "      <td>영업 압박, 다 혼자해야해서 남한테 가끔 도와달라하는것도 눈치보임, 미팅 나가는 것...</td>\n",
       "      <td>자부심을 갖고 다닐 수 있는 회사로 만들어주길\\n자유로운 연차 사용\\n재택근무</td>\n",
       "      <td>비슷</td>\n",
       "    </tr>\n",
       "    <tr>\n",
       "      <th>...</th>\n",
       "      <td>...</td>\n",
       "      <td>...</td>\n",
       "      <td>...</td>\n",
       "      <td>...</td>\n",
       "      <td>...</td>\n",
       "      <td>...</td>\n",
       "      <td>...</td>\n",
       "      <td>...</td>\n",
       "    </tr>\n",
       "    <tr>\n",
       "      <th>38177</th>\n",
       "      <td>대신정보통신(주)</td>\n",
       "      <td>IT/인터넷</td>\n",
       "      <td>현직원</td>\n",
       "      <td>\"살인적인 근무강도 바쁠땐 한달에 한번쉬기도 힘든회사 농담이 아닙니다\"</td>\n",
       "      <td>프로젝트 구성원에 따라 근무 환경이 좋을수도 있음 때론 이게 단점이 됨</td>\n",
       "      <td>살인적인 근무시간과 개인사생활이 없음 노처녀 노총각이되기 쉬운 회사</td>\n",
       "      <td>다 내려놓고 일할테니 연봉이라도좀 많이 올려주세요..\\n사람답게 살고싶습니다..</td>\n",
       "      <td>비슷</td>\n",
       "    </tr>\n",
       "    <tr>\n",
       "      <th>38178</th>\n",
       "      <td>대신정보통신(주)</td>\n",
       "      <td>IT/인터넷</td>\n",
       "      <td>전직원</td>\n",
       "      <td>\"지역색이 강한 그래도 발전중인 회사입니다.\"</td>\n",
       "      <td>공채 사채 차별 없습니다.\\n야근 식대 및 부식 지원 후함</td>\n",
       "      <td>일인 오너 및 경영진 중심 회사\\n야근 및 주말 근무 수당이 비현실적</td>\n",
       "      <td>늦게까지 일하는 것이 잘하는 것은 아닙니다.</td>\n",
       "      <td>비슷</td>\n",
       "    </tr>\n",
       "    <tr>\n",
       "      <th>38180</th>\n",
       "      <td>대신정보통신(주)</td>\n",
       "      <td>IT/인터넷</td>\n",
       "      <td>전직원</td>\n",
       "      <td>\"쌍팔년도 스타일의 중견 SI 회사. 주로 사업 제안서만 죽어라 쓰게될 것\"</td>\n",
       "      <td>장점을 솔직히 모르겠다.\\n연봉? 더 큰회사는 더 많이 줄테니까 장점이 아님\\n야근...</td>\n",
       "      <td>매일 야근, 주말 출근, 회사에 꼰대 밖에 없음\\n야근 안하는걸 용납하지 않는 회사...</td>\n",
       "      <td>시대가 바뀌었습니다. 워라벨도 조금만 신경써주세요.\\n라이프가 아예 없잖아요</td>\n",
       "      <td>비슷</td>\n",
       "    </tr>\n",
       "    <tr>\n",
       "      <th>38187</th>\n",
       "      <td>대신정보통신(주)</td>\n",
       "      <td>IT/인터넷</td>\n",
       "      <td>현직원</td>\n",
       "      <td>\"네트워크 관련 유지보수 및 이전 SI사업이 주인 회사입니다.\\n\\n개발자의 길을 ...</td>\n",
       "      <td>직원수나 매출로는 중견기업이지만 인지도는 강한편.\\n실무 경험을 풍부하게 할 수 있...</td>\n",
       "      <td>일부 부서나 경영진이 매우 보수적(퇴근? 눈치껏)\\n지방 출장이나 상주가 잦음.\\n...</td>\n",
       "      <td>조직문화가 바뀌어야 한다고 생각함. 너무 수직적임.</td>\n",
       "      <td>비슷</td>\n",
       "    </tr>\n",
       "    <tr>\n",
       "      <th>38190</th>\n",
       "      <td>대신정보통신(주)</td>\n",
       "      <td>경영/기획/컨설팅</td>\n",
       "      <td>전직원</td>\n",
       "      <td>\"대신증권과 전혀 상관 없는 기업. 보수적이며 지역색이 강한 기업.\"</td>\n",
       "      <td>버틸 수 있다면 오랫동안 다닐 수 있는 기업. 능력이 있다면 마음껏 발휘 할 수 있...</td>\n",
       "      <td>딱딱한 조직, 지역 감정 보유. 적은연봉. 폭언회의.</td>\n",
       "      <td>조직 문화 개선 요망.</td>\n",
       "      <td>비슷</td>\n",
       "    </tr>\n",
       "  </tbody>\n",
       "</table>\n",
       "<p>20214 rows × 8 columns</p>\n",
       "</div>"
      ],
      "text/plain": [
       "             기업명         직종 현직원 여부  \\\n",
       "3      (주)미래아이엔씨   마케팅/시장조사    전직원   \n",
       "4      (주)미래아이엔씨      영업/제휴    전직원   \n",
       "5      (주)미래아이엔씨   마케팅/시장조사    전직원   \n",
       "6      (주)미래아이엔씨   마케팅/시장조사    전직원   \n",
       "7      (주)미래아이엔씨      영업/제휴    전직원   \n",
       "...          ...        ...    ...   \n",
       "38177  대신정보통신(주)     IT/인터넷    현직원   \n",
       "38178  대신정보통신(주)     IT/인터넷    전직원   \n",
       "38180  대신정보통신(주)     IT/인터넷    전직원   \n",
       "38187  대신정보통신(주)     IT/인터넷    현직원   \n",
       "38190  대신정보통신(주)  경영/기획/컨설팅    전직원   \n",
       "\n",
       "                                                   리뷰 제목  \\\n",
       "3      \"온라인마케팅을 가장한 TM업무를 동반한 철저한 영업회사.\\n더 빨리 퇴사를 못한게...   \n",
       "4                 \"텔레마케팅 처음경험하기엔 나쁘지않은 회사 오래는 못할거 같음 ..\"   \n",
       "5      \"공고 봤을때 너무나도 기대하고 들어갔어요 유튜브 미래아이앤씨 브이로그도 찾아보고 ...   \n",
       "6      \"처음 입사하면 TM업무를 볼 가능성이 굉장히 높음 면접볼때도 AM업무 관심없냐고 ...   \n",
       "7        \"그냥 광고 영업회사이고 광고에 대해서 배울 수 있다는 생각으로 입사할 회사는 아님\"   \n",
       "...                                                  ...   \n",
       "38177            \"살인적인 근무강도 바쁠땐 한달에 한번쉬기도 힘든회사 농담이 아닙니다\"   \n",
       "38178                          \"지역색이 강한 그래도 발전중인 회사입니다.\"   \n",
       "38180         \"쌍팔년도 스타일의 중견 SI 회사. 주로 사업 제안서만 죽어라 쓰게될 것\"   \n",
       "38187  \"네트워크 관련 유지보수 및 이전 SI사업이 주인 회사입니다.\\n\\n개발자의 길을 ...   \n",
       "38190             \"대신증권과 전혀 상관 없는 기업. 보수적이며 지역색이 강한 기업.\"   \n",
       "\n",
       "                                                   기업 장점  \\\n",
       "3      인센제로 영업력이 뛰어나면 그만큼 월급을 받을 수 있음\\n\\n당일 퇴사처리\\n\\n영...   \n",
       "4      건물이 좋음 , 오랜 업력에 입사와 퇴사가 잦음\\n텔레마케팅을 처음 겪어보기엔 나쁘...   \n",
       "5                     광고 대행사에 장점은 항상 자유로운 연차인거같아요 이건 좋아요   \n",
       "6                  전체적으로 회사사람들이 젊은편에 속한다. 컴퓨터가 pc방급 컴퓨터임   \n",
       "7      음 장점 ……. 음 뭐가있을까 그냥 앉아서 일 하는거 ? 모든걸 다 혼자해야함 (남...   \n",
       "...                                                  ...   \n",
       "38177            프로젝트 구성원에 따라 근무 환경이 좋을수도 있음 때론 이게 단점이 됨   \n",
       "38178                   공채 사채 차별 없습니다.\\n야근 식대 및 부식 지원 후함   \n",
       "38180  장점을 솔직히 모르겠다.\\n연봉? 더 큰회사는 더 많이 줄테니까 장점이 아님\\n야근...   \n",
       "38187  직원수나 매출로는 중견기업이지만 인지도는 강한편.\\n실무 경험을 풍부하게 할 수 있...   \n",
       "38190  버틸 수 있다면 오랫동안 다닐 수 있는 기업. 능력이 있다면 마음껏 발휘 할 수 있...   \n",
       "\n",
       "                                                   기업 단점  \\\n",
       "3      ㅡ대체휴일 연차소진, 당일연차 사용불가\\n하루연차 쓰려해도 3일전에 기안 올려야함\\...   \n",
       "4               복지제도가 다양하지만 쓸 시간은 없음\\n부담감과 압박이 있음 야근이 잦음   \n",
       "5                   퇴근 시간이 정해져있지만 해야할일이 너무 많기때문에 강제 야근..   \n",
       "6      그냥 TM업무를 보는 사람이 대부분이고 역량을 키우거나 스팩을 쌓거나 하기는 좀 무...   \n",
       "7      영업 압박, 다 혼자해야해서 남한테 가끔 도와달라하는것도 눈치보임, 미팅 나가는 것...   \n",
       "...                                                  ...   \n",
       "38177              살인적인 근무시간과 개인사생활이 없음 노처녀 노총각이되기 쉬운 회사   \n",
       "38178             일인 오너 및 경영진 중심 회사\\n야근 및 주말 근무 수당이 비현실적   \n",
       "38180  매일 야근, 주말 출근, 회사에 꼰대 밖에 없음\\n야근 안하는걸 용납하지 않는 회사...   \n",
       "38187  일부 부서나 경영진이 매우 보수적(퇴근? 눈치껏)\\n지방 출장이나 상주가 잦음.\\n...   \n",
       "38190                      딱딱한 조직, 지역 감정 보유. 적은연봉. 폭언회의.   \n",
       "\n",
       "                                              경영진에 바라는 점 기업 성장 가능성  \n",
       "3      월급때문에 퇴사가 늦어졌으나 돌이켜보니 그 버틴 시간들이 너무 아까웠습니다.\\n임원...        비슷  \n",
       "4                              합리적인 복지 및 재투자 지원을 해줬음 좋겠다        비슷  \n",
       "5                        이건 어떤 대행사나 똑같은거라 뭐라 할 말이 없네요 ㅎㅎ        비슷  \n",
       "6      사람들이 왜 1년도 못채우고 그만두는지 젊은 사람이 뭐 헝그리정신이 부족하다 이런 ...        비슷  \n",
       "7            자부심을 갖고 다닐 수 있는 회사로 만들어주길\\n자유로운 연차 사용\\n재택근무        비슷  \n",
       "...                                                  ...       ...  \n",
       "38177       다 내려놓고 일할테니 연봉이라도좀 많이 올려주세요..\\n사람답게 살고싶습니다..        비슷  \n",
       "38178                           늦게까지 일하는 것이 잘하는 것은 아닙니다.        비슷  \n",
       "38180         시대가 바뀌었습니다. 워라벨도 조금만 신경써주세요.\\n라이프가 아예 없잖아요        비슷  \n",
       "38187                       조직문화가 바뀌어야 한다고 생각함. 너무 수직적임.        비슷  \n",
       "38190                                       조직 문화 개선 요망.        비슷  \n",
       "\n",
       "[20214 rows x 8 columns]"
      ]
     },
     "execution_count": 13,
     "metadata": {},
     "output_type": "execute_result"
    }
   ],
   "source": [
    "sdf"
   ]
  },
  {
   "cell_type": "code",
   "execution_count": 14,
   "id": "3985cc36",
   "metadata": {
    "ExecuteTime": {
     "end_time": "2021-08-13T11:26:11.055872Z",
     "start_time": "2021-08-13T11:26:10.923587Z"
    }
   },
   "outputs": [],
   "source": [
    "sdf[[\"기업 장점\",\"기업 단점\"]].to_csv(\"성공기업.csv\", encoding=\"utf-8-sig\")\n"
   ]
  },
  {
   "cell_type": "code",
   "execution_count": 16,
   "id": "b4803e42",
   "metadata": {
    "ExecuteTime": {
     "end_time": "2021-08-13T11:26:24.904079Z",
     "start_time": "2021-08-13T11:26:24.754480Z"
    }
   },
   "outputs": [],
   "source": [
    "ldf[[\"기업 장점\",\"기업 단점\"]].to_csv(\"비성장기업.csv\", encoding=\"utf-8-sig\")\n"
   ]
  },
  {
   "cell_type": "code",
   "execution_count": 21,
   "id": "5103b6c8",
   "metadata": {
    "ExecuteTime": {
     "end_time": "2021-08-13T11:59:19.975058Z",
     "start_time": "2021-08-13T11:59:19.910232Z"
    }
   },
   "outputs": [],
   "source": [
    "\n",
    "pd.crosstab(df[\"기업명\"], df[\"기업 성장 가능성\"], margins=True).to_csv(\"기업.csv\", encoding=\"utf-8-sig\")\n"
   ]
  },
  {
   "cell_type": "code",
   "execution_count": 10,
   "id": "7591a28f",
   "metadata": {
    "ExecuteTime": {
     "end_time": "2021-08-13T12:07:30.461583Z",
     "start_time": "2021-08-13T12:07:30.450612Z"
    }
   },
   "outputs": [
    {
     "data": {
      "text/plain": [
       "97"
      ]
     },
     "execution_count": 10,
     "metadata": {},
     "output_type": "execute_result"
    }
   ],
   "source": [
    "len(df[\"기업명\"].unique())"
   ]
  },
  {
   "cell_type": "code",
   "execution_count": 13,
   "id": "cfeb24cf",
   "metadata": {
    "ExecuteTime": {
     "end_time": "2021-08-15T05:56:22.680930Z",
     "start_time": "2021-08-15T05:56:22.656008Z"
    }
   },
   "outputs": [
    {
     "data": {
      "text/html": [
       "<div>\n",
       "<style scoped>\n",
       "    .dataframe tbody tr th:only-of-type {\n",
       "        vertical-align: middle;\n",
       "    }\n",
       "\n",
       "    .dataframe tbody tr th {\n",
       "        vertical-align: top;\n",
       "    }\n",
       "\n",
       "    .dataframe thead th {\n",
       "        text-align: right;\n",
       "    }\n",
       "</style>\n",
       "<table border=\"1\" class=\"dataframe\">\n",
       "  <thead>\n",
       "    <tr style=\"text-align: right;\">\n",
       "      <th></th>\n",
       "      <th>기업명</th>\n",
       "      <th>비슷</th>\n",
       "      <th>성장</th>\n",
       "      <th>All</th>\n",
       "      <th>비슷.1</th>\n",
       "      <th>성장.1</th>\n",
       "    </tr>\n",
       "  </thead>\n",
       "  <tbody>\n",
       "    <tr>\n",
       "      <th>0</th>\n",
       "      <td>한국방송통신대학교</td>\n",
       "      <td>93</td>\n",
       "      <td>2</td>\n",
       "      <td>95</td>\n",
       "      <td>0.978947</td>\n",
       "      <td>0.021053</td>\n",
       "    </tr>\n",
       "    <tr>\n",
       "      <th>1</th>\n",
       "      <td>아시아나아이디티(주)</td>\n",
       "      <td>90</td>\n",
       "      <td>7</td>\n",
       "      <td>97</td>\n",
       "      <td>0.927835</td>\n",
       "      <td>0.072165</td>\n",
       "    </tr>\n",
       "    <tr>\n",
       "      <th>2</th>\n",
       "      <td>한국피자헛(유)</td>\n",
       "      <td>220</td>\n",
       "      <td>20</td>\n",
       "      <td>240</td>\n",
       "      <td>0.916667</td>\n",
       "      <td>0.083333</td>\n",
       "    </tr>\n",
       "    <tr>\n",
       "      <th>3</th>\n",
       "      <td>(주)디지틀조선일보</td>\n",
       "      <td>93</td>\n",
       "      <td>9</td>\n",
       "      <td>102</td>\n",
       "      <td>0.911765</td>\n",
       "      <td>0.088235</td>\n",
       "    </tr>\n",
       "    <tr>\n",
       "      <th>4</th>\n",
       "      <td>(유)씨앤씨미술교육지원센터</td>\n",
       "      <td>55</td>\n",
       "      <td>6</td>\n",
       "      <td>61</td>\n",
       "      <td>0.901639</td>\n",
       "      <td>0.098361</td>\n",
       "    </tr>\n",
       "    <tr>\n",
       "      <th>...</th>\n",
       "      <td>...</td>\n",
       "      <td>...</td>\n",
       "      <td>...</td>\n",
       "      <td>...</td>\n",
       "      <td>...</td>\n",
       "      <td>...</td>\n",
       "    </tr>\n",
       "    <tr>\n",
       "      <th>92</th>\n",
       "      <td>한국마이크로소프트(유)</td>\n",
       "      <td>202</td>\n",
       "      <td>182</td>\n",
       "      <td>384</td>\n",
       "      <td>0.526042</td>\n",
       "      <td>0.473958</td>\n",
       "    </tr>\n",
       "    <tr>\n",
       "      <th>93</th>\n",
       "      <td>한국엠에스디(유)</td>\n",
       "      <td>68</td>\n",
       "      <td>65</td>\n",
       "      <td>133</td>\n",
       "      <td>0.511278</td>\n",
       "      <td>0.488722</td>\n",
       "    </tr>\n",
       "    <tr>\n",
       "      <th>94</th>\n",
       "      <td>(주)하이컨시</td>\n",
       "      <td>20</td>\n",
       "      <td>26</td>\n",
       "      <td>46</td>\n",
       "      <td>0.434783</td>\n",
       "      <td>0.565217</td>\n",
       "    </tr>\n",
       "    <tr>\n",
       "      <th>95</th>\n",
       "      <td>네이버(주)</td>\n",
       "      <td>448</td>\n",
       "      <td>689</td>\n",
       "      <td>1137</td>\n",
       "      <td>0.394019</td>\n",
       "      <td>0.605981</td>\n",
       "    </tr>\n",
       "    <tr>\n",
       "      <th>96</th>\n",
       "      <td>구글코리아(유)</td>\n",
       "      <td>32</td>\n",
       "      <td>122</td>\n",
       "      <td>154</td>\n",
       "      <td>0.207792</td>\n",
       "      <td>0.792208</td>\n",
       "    </tr>\n",
       "  </tbody>\n",
       "</table>\n",
       "<p>97 rows × 6 columns</p>\n",
       "</div>"
      ],
      "text/plain": [
       "               기업명   비슷   성장   All      비슷.1      성장.1\n",
       "0        한국방송통신대학교   93    2    95  0.978947  0.021053\n",
       "1      아시아나아이디티(주)   90    7    97  0.927835  0.072165\n",
       "2         한국피자헛(유)  220   20   240  0.916667  0.083333\n",
       "3       (주)디지틀조선일보   93    9   102  0.911765  0.088235\n",
       "4   (유)씨앤씨미술교육지원센터   55    6    61  0.901639  0.098361\n",
       "..             ...  ...  ...   ...       ...       ...\n",
       "92    한국마이크로소프트(유)  202  182   384  0.526042  0.473958\n",
       "93       한국엠에스디(유)   68   65   133  0.511278  0.488722\n",
       "94         (주)하이컨시   20   26    46  0.434783  0.565217\n",
       "95          네이버(주)  448  689  1137  0.394019  0.605981\n",
       "96        구글코리아(유)   32  122   154  0.207792  0.792208\n",
       "\n",
       "[97 rows x 6 columns]"
      ]
     },
     "execution_count": 13,
     "metadata": {},
     "output_type": "execute_result"
    }
   ],
   "source": [
    "df = pd.read_csv(\"기업.csv\")\n",
    "pd.DataFrame(df, columns=[\"기업명\",\"비성장\",\"성장\",\"총합\",\"비성장 비율\",\"성장비율\"])"
   ]
  },
  {
   "cell_type": "code",
   "execution_count": 7,
   "id": "ecf62a80",
   "metadata": {
    "ExecuteTime": {
     "end_time": "2021-08-15T05:54:45.050027Z",
     "start_time": "2021-08-15T05:54:45.043179Z"
    }
   },
   "outputs": [],
   "source": [
    "df1 = df.loc[[0,1,3,94,95,96],:]\n"
   ]
  },
  {
   "cell_type": "code",
   "execution_count": 9,
   "id": "e37d1cd5",
   "metadata": {
    "ExecuteTime": {
     "end_time": "2021-08-15T05:54:53.570137Z",
     "start_time": "2021-08-15T05:54:53.335476Z"
    }
   },
   "outputs": [
    {
     "data": {
      "text/plain": [
       "<Figure size 720x288 with 0 Axes>"
      ]
     },
     "metadata": {},
     "output_type": "display_data"
    },
    {
     "data": {
      "image/png": "[encoded data removed]",
      "text/plain": [
       "<Figure size 360x360 with 1 Axes>"
      ]
     },
     "metadata": {
      "image/png": {
       "height": 432,
       "width": 361
      },
      "needs_background": "light"
     },
     "output_type": "display_data"
    }
   ],
   "source": [
    "import seaborn as sns \n",
    "plt.figure(figsize=(10,4))\n",
    "\n",
    "\n",
    "sns.catplot(data=df1, x=\"기업명\", y=\"성장.1\", kind=\"bar\")\n",
    "plt.xticks(rotation = - 45 )\n",
    "\n",
    "plt.show()"
   ]
  },
  {
   "cell_type": "code",
   "execution_count": 34,
   "id": "a4483235",
   "metadata": {
    "ExecuteTime": {
     "end_time": "2021-08-15T06:37:11.255599Z",
     "start_time": "2021-08-15T06:37:11.021837Z"
    }
   },
   "outputs": [
    {
     "data": {
      "text/plain": [
       "<Figure size 720x288 with 0 Axes>"
      ]
     },
     "metadata": {},
     "output_type": "display_data"
    },
    {
     "data": {
      "image/png": "[encoded data removed]",
      "text/plain": [
       "<Figure size 360x360 with 1 Axes>"
      ]
     },
     "metadata": {
      "image/png": {
       "height": 428,
       "width": 362
      },
      "needs_background": "light"
     },
     "output_type": "display_data"
    }
   ],
   "source": [
    "a = pd.read_csv(\"a.csv\")\n",
    "a.drop(columns = \"Unnamed: 0\")\n",
    "\n",
    "import seaborn as sns \n",
    "plt.figure(figsize=(10,4))\n",
    "\n",
    "\n",
    "sns.catplot(data=a, x=\"keyword\", y=\"score\", kind=\"bar\")\n",
    "plt.xticks(rotation = - 45 )\n",
    "\n",
    "plt.show()"
   ]
  },
  {
   "cell_type": "code",
   "execution_count": 35,
   "id": "6ede0a92",
   "metadata": {
    "ExecuteTime": {
     "end_time": "2021-08-15T06:37:15.124725Z",
     "start_time": "2021-08-15T06:37:15.113755Z"
    }
   },
   "outputs": [
    {
     "data": {
      "text/plain": [
       "NormaltestResult(statistic=4.144383154609693, pvalue=0.1259095386242594)"
      ]
     },
     "execution_count": 35,
     "metadata": {},
     "output_type": "execute_result"
    }
   ],
   "source": [
    "\n",
    "stats.normaltest( a['score'] )\n",
    "\n",
    "# 정규분포에 대한 가설 검정\n",
    "# 귀무가설 : Oxid_time 값이 정규분포를 띌 것이다. \n",
    "# 대립가설 : Oxid_time 값이 정규분포를 띄지 않을 것이다. \n",
    "# stats.normaltest( df1_table1['Oxid_time'].dropna() )\n",
    "# P.value < 0.05 , 귀무가설 기각 (대립가설 참)\n",
    "# Oxid_time 값이 정규분포를 띄지 않을 것이다. "
   ]
  },
  {
   "cell_type": "code",
   "execution_count": 29,
   "id": "42d48b58",
   "metadata": {
    "ExecuteTime": {
     "end_time": "2021-08-15T06:35:07.711610Z",
     "start_time": "2021-08-15T06:35:07.687673Z"
    }
   },
   "outputs": [
    {
     "data": {
      "text/plain": [
       "Ttest_indResult(statistic=1.661126659101446, pvalue=0.1477534469270301)"
      ]
     },
     "execution_count": 29,
     "metadata": {},
     "output_type": "execute_result"
    }
   ],
   "source": [
    "import scipy.stats as stats\n",
    "cond1 = (a['성장유무']=='성장')\n",
    "df1_T = a.loc[cond1].dropna()\n",
    "df1_F = a.loc[~cond1].dropna()\n",
    "#stats.ranksums(df1_T['score'], df1_F['score'])\n",
    "\n",
    "stats.ttest_ind(df1_T['score'], df1_F['score'])"
   ]
  },
  {
   "cell_type": "code",
   "execution_count": null,
   "id": "2d36129c",
   "metadata": {},
   "outputs": [],
   "source": [
    "stats.normaltest( df1_table1['Oxid_time'].dropna() )\n",
    "# 정규분포에 대한 가설 검정\n",
    "# 귀무가설 : Oxid_time 값이 정규분포를 띌 것이다. \n",
    "# 대립가설 : Oxid_time 값이 정규분포를 띄지 않을 것이다. \n",
    "stats.normaltest( df1_table1['Oxid_time'].dropna() )\n",
    "# P.value < 0.05 , 귀무가설 기각 (대립가설 참)\n",
    "# Oxid_time 값이 정규분포를 띄지 않을 것이다. \n"
   ]
  }
 ],
 "metadata": {
  "kernelspec": {
   "display_name": "Python 3",
   "language": "python",
   "name": "python3"
  },
  "language_info": {
   "codemirror_mode": {
    "name": "ipython",
    "version": 3
   },
   "file_extension": ".py",
   "mimetype": "text/x-python",
   "name": "python",
   "nbconvert_exporter": "python",
   "pygments_lexer": "ipython3",
   "version": "3.8.8"
  },
  "toc": {
   "base_numbering": 1,
   "nav_menu": {},
   "number_sections": true,
   "sideBar": true,
   "skip_h1_title": false,
   "title_cell": "Table of Contents",
   "title_sidebar": "Contents",
   "toc_cell": false,
   "toc_position": {},
   "toc_section_display": true,
   "toc_window_display": false
  },
  "varInspector": {
   "cols": {
    "lenName": 16,
    "lenType": 16,
    "lenVar": 40
   },
   "kernels_config": {
    "python": {
     "delete_cmd_postfix": "",
     "delete_cmd_prefix": "del ",
     "library": "var_list.py",
     "varRefreshCmd": "print(var_dic_list())"
    },
    "r": {
     "delete_cmd_postfix": ") ",
     "delete_cmd_prefix": "rm(",
     "library": "var_list.r",
     "varRefreshCmd": "cat(var_dic_list()) "
    }
   },
   "types_to_exclude": [
    "module",
    "function",
    "builtin_function_or_method",
    "instance",
    "_Feature"
   ],
   "window_display": false
  }
 },
 "nbformat": 4,
 "nbformat_minor": 5
}
